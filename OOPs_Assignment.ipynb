{
  "nbformat": 4,
  "nbformat_minor": 0,
  "metadata": {
    "colab": {
      "provenance": []
    },
    "kernelspec": {
      "name": "python3",
      "display_name": "Python 3"
    },
    "language_info": {
      "name": "python"
    }
  },
  "cells": [
    {
      "cell_type": "markdown",
      "source": [
        "# Theory Questions"
      ],
      "metadata": {
        "id": "PtEeA72TH17K"
      }
    },
    {
      "cell_type": "markdown",
      "source": [
        "1.what is object oriented programming\n",
        "- Object-oriented programming (OOP) is a programming paradigm that organizes software design around data, or objects, rather than functions and logic. In OOP, objects are self-contained units that combine data (attributes or properties) and the operations (methods) that can be performed on that data. This approach is especially well-suited for large, complex, and frequently updated software systems, such as manufacturing simulations or mobile applications\n",
        "-  object-oriented programming focuses on creating reusable, modular, and maintainable software by organizing code around objects rather than procedures"
      ],
      "metadata": {
        "id": "UMRAaoF1H8Kf"
      }
    },
    {
      "cell_type": "markdown",
      "source": [
        "2.what is class in OOPs.\n",
        "- In object-oriented programming (OOP), a class is a blueprint or template that defines the structure and behavior of objects. It specifies what data (attributes or variables) the objects will hold and what actions (methods or functions) they can perform\n",
        "- a class in OOP is a fundamental building block that encapsulates data and behavior, serving as a template for creating multiple objects with shared characteristics and actions.\n",
        "\n"
      ],
      "metadata": {
        "id": "toUClebUI4W6"
      }
    },
    {
      "cell_type": "markdown",
      "source": [
        "3.What is an object in OOPs\n",
        "- In object-oriented programming (OOP), an object is a reusable unit of code that represents both data (attributes or properties) and the actions (methods or behaviors) that can be performed on that data. Objects are created from classes, which serve as blueprints defining what data the object can hold and what actions it can perform.\n",
        "- an object in OOP is an instance of a class, encapsulating data and behavior, and is the fundamental building block of object-oriented programs"
      ],
      "metadata": {
        "id": "N62StfjMJKet"
      }
    },
    {
      "cell_type": "markdown",
      "source": [
        "4.What is the difference between abstraction and encapsulation\n",
        "- Abstraction\n",
        "  - Focus: Abstraction focuses on hiding complex implementation details and showing only the essential features of an object or system to the user.\n",
        "  - Purpose: It simplifies the complexity by providing a clear, high-level interface, allowing users to interact with the object without needing to understand its internal workings.\n",
        "  - Implementation: Achieved using abstract classes, interfaces, or by exposing only necessary methods and properties.\n",
        "  - Example: When driving a car, the driver only needs to know how to use the steering wheel and pedals, not how the engine or transmission works.\n",
        "  - Benefit: Makes code easier to maintain and understand, as only relevant details are exposed.\n",
        "\n",
        "- Encapsulation\n",
        "  - Focus: Encapsulation is about bundling data (attributes) and methods (functions) that operate on the data into a single unit or class.\n",
        "  - Purpose: It protects the internal state of an object from unintended interference and misuse by restricting access to its data and methods.\n",
        "  - Implementation: Achieved by using access modifiers (like private, protected, public) and by providing controlled access through methods (getters/setters).\n",
        "  - Example: The engine compartment of a car is hidden under the hood, and only specific controls are accessible to the driver.\n",
        "  - Benefit: Enhances security and maintainability by preventing unintended changes and reducing dependencies between different parts of the code"
      ],
      "metadata": {
        "id": "p_keznQ5Jksx"
      }
    },
    {
      "cell_type": "markdown",
      "source": [
        "5.What are dunder method in Python\n",
        "- Dunder methods in Python, also known as \"magic methods\" or \"special methods,\" are methods whose names start and end with double underscores (hence \"dunder,\" short for \"double underscore\"). These methods enable instances of a class to interact with built-in Python functions and operators, allowing custom objects to behave like built-in types\n",
        "- Dunder methods are fundamental to Python’s object model, making it possible to define custom behavior for built-in operations, thereby integrating user-defined classes seamlessly with Python’s syntax and idioms"
      ],
      "metadata": {
        "id": "nyZal8ERKhha"
      }
    },
    {
      "cell_type": "markdown",
      "source": [
        "6.Explain the concept of inheritance in OOP.\n",
        "- Inheritance in object-oriented programming (OOP) is a mechanism that allows a new class (called a subclass, derived class, or child class) to inherit properties and behaviors (attributes and methods) from an existing class (called a superclass, base class, or parent class). This creates a hierarchical relationship between classes, making it possible to reuse code and reduce redundancy.\n",
        "- inheritance enables the creation of new classes that build on existing ones, streamlining development and enhancing maintainability."
      ],
      "metadata": {
        "id": "aqFzfxXeK9MM"
      }
    },
    {
      "cell_type": "markdown",
      "source": [
        "7.What is polymorphism in OOP\n",
        "- Polymorphism in object-oriented programming (OOP) is the ability of objects of different classes to be treated as objects of a common superclass, allowing a single interface to represent multiple forms or types of data. The  polymorphism meaning \"many forms,\" and it enables code to be written in a way that can work with objects of various types through the same interface\n",
        "- polymorphism allows you to write programs that can process objects differently depending on their class, while using a single, unified interface"
      ],
      "metadata": {
        "id": "d75VKOSeLf0B"
      }
    },
    {
      "cell_type": "markdown",
      "source": [
        "8.How is encapsulation achieved in python?\n",
        "- Encapsulation in Python is achieved by bundling data (attributes) and methods (functions) that operate on that data within a single unit, typically a class, and by restricting access to some of its internal components. Unlike languages such as Java or C++, Python does not enforce strict access control with keywords like public, private, or protected. Instead, Python relies on conventions and naming practices to indicate intended access levels\n",
        "- Encapsulation in Python is primarily achieved through class structure, naming conventions for access control, and the use of getter/setter methods or the @property decorator for controlled access to data."
      ],
      "metadata": {
        "id": "yybmqxRcNk5K"
      }
    },
    {
      "cell_type": "markdown",
      "source": [
        "9.What is a constructor in Python.\n",
        "- A constructor in Python is a special method that is automatically called when an object of a class is created. Its main purpose is to initialize the instance variables (attributes) of the new object.\n",
        "- Constructor is a special method __init__() used to initialize new objects.\n",
        "- It is called automatically during object creation.\n",
        "- Supports default and parameterized initialization.\n",
        "- Essential for setting up initial state of objects in Python classes"
      ],
      "metadata": {
        "id": "VxqELZH4OPrI"
      }
    },
    {
      "cell_type": "markdown",
      "source": [
        "10.What are class and static methods in python?\n",
        "- In Python, class methods and static methods are two special types of methods that can be defined within a class, each serving a distinct purpose\n",
        "- class methods are bound to the class and can access class-level data, while static methods are not bound to either the class or instances and are mainly used for utility purposes"
      ],
      "metadata": {
        "id": "Mjwzhr-qOxc9"
      }
    },
    {
      "cell_type": "markdown",
      "source": [
        "11. what are method overloading in Python.\n",
        "- Method overloading in Python refers to the ability to define multiple methods with the same name but different parameters (number or type) within the same class. However, unlike languages such as Java or C++, Python does not support method overloading natively. If multiple methods with the same name are defined, only the last one is retained, and previous definitions are overridden.\n",
        "- Python does not support method overloading in the traditional sense.\n",
        "- Method overloading can be simulated using default parameters, variable-length arguments, or third-party libraries.\n",
        "- This approach allows Python developers to achieve flexible method behavior despite the lack of native method overloading support."
      ],
      "metadata": {
        "id": "VglfUq2ePiiU"
      }
    },
    {
      "cell_type": "markdown",
      "source": [
        "12.What is method overriding in OOPs\n",
        "- Method overriding in object-oriented programming (OOP) is a feature that allows a subclass (child class) to provide a specific implementation for a method that is already defined in its superclass (parent class).\n",
        "- When a method in the subclass has the same name, parameters, and return type as a method in the superclass, the subclass method overrides the superclass method. This means that when the method is called on an object of the subclass, the overridden version in the subclass is executed instead of the one in the superclass\n",
        "- Method overriding allows a subclass to provide its own implementation of a method defined in its superclass, enabling polymorphism and more flexible, reusable code"
      ],
      "metadata": {
        "id": "vRC2YCtZQUrm"
      }
    },
    {
      "cell_type": "markdown",
      "source": [
        "13.What is a property decorator in Python\n",
        "- A property decorator in Python is a built-in decorator (@property) that allows you to define methods in a class that can be accessed like attributes, without using parentheses. It provides a way to control access, computation, or modification of instance variables, enabling you to add logic such as validation or calculated values behind what appears to be a simple attribute access\n",
        "- The property decorator is a powerful tool for managing attribute access in Python classes, supporting encapsulation and clean code design"
      ],
      "metadata": {
        "id": "IwECQdpPQ9NV"
      }
    },
    {
      "cell_type": "markdown",
      "source": [
        "14.What is polymorphism important in OOP\n",
        "- Polymorphism is important in object-oriented programming (OOP) because it allows objects of different classes to be treated as objects of a common superclass, enabling a single interface to represent multiple forms or behaviors\n",
        "- In summary, polymorphism is a core OOP principle that promotes cleaner, more flexible, and easier-to-maintain code by allowing objects of different types to be processed through a single, consistent interface"
      ],
      "metadata": {
        "id": "Af_tz2ZuRO7r"
      }
    },
    {
      "cell_type": "markdown",
      "source": [
        "15.What is abstract class in Python\n",
        "- An abstract class in Python is a class that cannot be instantiated directly and is meant to serve as a template or blueprint for other classes. It defines methods (including abstract methods) that must be implemented by its subclasses, but does not provide the actual implementation for those methods itself.\n",
        "- To create an abstract class in Python, you use the abc module and inherit from the ABC (Abstract Base Class) class. Abstract methods are marked with the @abstractmethod decorator, which enforces that any concrete (non-abstract) subclass must implement these methods"
      ],
      "metadata": {
        "id": "B80UgUR4Rnoe"
      }
    },
    {
      "cell_type": "markdown",
      "source": [
        "16.What are the advantage of OOP\n",
        "- Object-oriented programming (OOP) offers several significant advantages that make it a preferred approach for developing complex and scalable software systems. Here are the key benefits:\n",
        "- Modularity and Manageability: OOP divides a complex system into smaller, self-contained objects, making the code easier to manage, update, and debug.\n",
        "- Code Reusability: Through inheritance, OOP allows developers to reuse existing code, reducing duplication and saving development time.\n",
        "- Encapsulation and Security: By bundling data and methods within objects and controlling access, OOP enhances security and prevents unintended data corruption.\n",
        "- Flexibility and Extensibility: OOP makes it easy to modify, add, or upgrade features without altering the entire codebase, supporting adaptable and scalable software.\n",
        "- Improved Collaboration: Teams can work on different objects simultaneously, streamlining collaboration and reducing conflicts in large projects.\n",
        "- Simplified Troubleshooting: Errors are easier to locate and fix because objects are modular and self-contained, allowing for targeted debugging.\n",
        "- Productivity: OOP increases development productivity by enabling the use of pre-written modules and promoting efficient code organization.\n",
        "- Maintainability: The code is more readable and maintainable, as it models real-world entities and allows for easy updates and enhancements.\n",
        "- Scalability: OOP supports the growth of applications, making it easier to add new features and manage large systems.\n",
        "\n"
      ],
      "metadata": {
        "id": "k-jRws7qR-qz"
      }
    },
    {
      "cell_type": "markdown",
      "source": [
        "17.What is the difference between a class variable and an instance variable\n",
        "- Class Variable:\n",
        "    - Defined inside a class but outside any method or constructor.\n",
        "    - Shared by all instances of the class; only one copy exists.\n",
        "    - Changes to a class variable affect all instances.\n",
        "    - Accessed using the class name or through an instance.\n",
        "    - Used to store data common to all objects of the class.\n",
        "    - Created when the class is loaded and destroyed when the program ends.\n",
        "-Instance Variable:\n",
        "    - Defined inside methods (usually in the constructor) using self (Python) or within instance context.\n",
        "    - Each object (instance) has its own separate copy.\n",
        "    - Changes to an instance variable affect only that particular object.\n",
        "    - Accessed only through the instance/object.\n",
        "    -Used to store data unique to each object.\n",
        "    - Created when the object is instantiated and destroyed when the object is destroyed."
      ],
      "metadata": {
        "id": "Dt3z4MbuSjkm"
      }
    },
    {
      "cell_type": "markdown",
      "source": [
        "18.What is multiple inheritance in python\n",
        "- Multiple inheritance in Python is a feature that allows a class to inherit properties and methods from more than one parent class. This means a child class can be derived from two or more base classes, combining their features and behaviors\n",
        "- Multiple inheritance in Python allows a class to inherit from several base classes, combining their features and behaviors. This is useful for modeling multifaceted relationships but requires careful design to avoid ambiguity and complexity."
      ],
      "metadata": {
        "id": "UYkn-uWzTwG3"
      }
    },
    {
      "cell_type": "markdown",
      "source": [
        "19.Explain the purpose of \"__str__'and'__repr__\"\" methods in python.\n",
        "- Purpose of __repr__\n",
        "  - Provides an official, unambiguous string representation of an object, mainly for developers.\n",
        "  - The string returned by __repr__ should ideally be a valid Python expression that can recreate the object when passed to eval().\n",
        "  - Called by the built-in repr() function and used in debugging and development.\n",
        "  - If only one method is implemented, it should be __repr__ because it acts as a fallback for __str__\n",
        "- Purpose of __str__\n",
        "  - Provides a readable, informal string representation of an object, aimed at end-users.\n",
        "  - Called by the built-in str() function and by print().\n",
        "  - Should return a user-friendly and concise description of the object.\n",
        "  -    If __str__ is not defined, Python falls back to using __repr__"
      ],
      "metadata": {
        "id": "-KaAZbL1UFlR"
      }
    },
    {
      "cell_type": "markdown",
      "source": [
        "20.What is the significance of the super() function in Python\n",
        "- The super() function in Python is used to access methods and properties of a parent (super) class from a child (sub) class. It is especially significant in object-oriented programming when working with inheritance, as it enables subclasses to:\n",
        "\n",
        "  - Call parent class methods without explicitly naming the parent class, making the code more maintainable and flexible.\n",
        "  - Initialize or extend the behavior of parent class methods while adding or overriding functionality in the subclass.\n",
        "  - Support cooperative multiple inheritance by following the Method Resolution Order (MRO), ensuring that the correct parent method is called in complex inheritance hierarchies.\n",
        "\n"
      ],
      "metadata": {
        "id": "A27JHrL1alSq"
      }
    },
    {
      "cell_type": "markdown",
      "source": [
        "21.what is the significance of the __del__ method in python\n",
        "- __del__ is called when an object is about to be destroyed by Python’s garbage collector.\n",
        "- It provides a way to perform cleanup actions before object destruction.\n",
        "- The del statement removes references but does not directly invoke __del__.\n",
        "- Usage of __del__ should be cautious due to unpredictable timing of garbage collection."
      ],
      "metadata": {
        "id": "44uuFvVzcl7H"
      }
    },
    {
      "cell_type": "markdown",
      "source": [
        "22.What is the difference between @staticmethod and @classmethod in python.\n",
        "- @staticmethod\n",
        "  - Does not take any special first argument (no self or cls).\n",
        "  - Behaves like a regular function but is defined inside a class for logical grouping.\n",
        "  - Cannot access or modify class or instance attributes.\n",
        "  - Used for utility functions related to the class but independent of class or instance state.\n",
        "  - Called using ClassName.method() or instance.method().\n",
        "- @classmethod\n",
        "  - Takes the class itself as the first argument, conventionally named cls.\n",
        "  - Can access and modify class-level attributes and methods, but not instance-specific data.\n",
        "  - Often used for factory methods or methods that operate on the class rather than instances.\n",
        "  - Called using ClassName.method() or instance.method(), but the method receives the class as the first argument."
      ],
      "metadata": {
        "id": "-9bHs6z-dB9v"
      }
    },
    {
      "cell_type": "markdown",
      "source": [
        "23.How does polymorphism work in Python with inheritance?\n",
        "- Polymorphism in Python with inheritance allows objects of different subclasses to be treated as instances of a common parent class, enabling the same method call to invoke different behaviors depending on the subclass implementation. This is primarily achieved through method overriding, where a subclass provides its own version of a method defined in the parent class.\n",
        "- Polymorphism in Python with inheritance allows a single interface (method name) to represent different underlying forms (subclass implementations).\n",
        "- It is implemented via method overriding in subclasses.\n",
        "- Enables writing generic and reusable code that can work with objects of different types sharing the same interface."
      ],
      "metadata": {
        "id": "OE7e4iHCe-88"
      }
    },
    {
      "cell_type": "markdown",
      "source": [
        "24.What is method changing in python OOP?\n",
        "- The term \"method changing\" in Python OOP is not a standard phrase, but based on the context and common usage, it most likely refers to method overriding\n",
        "- Method changing in Python OOP typically refers to method overriding.\n",
        "- It allows a subclass to provide a new version of a method inherited from its parent class.\n",
        "- Enables polymorphism by allowing different behaviors for the same method call depending on the object’s class."
      ],
      "metadata": {
        "id": "agcIMeALfoBd"
      }
    },
    {
      "cell_type": "markdown",
      "source": [
        "25.what is the purpose of the __call__ method in python\n",
        "- The __call__ method in Python is a special method that allows an instance of a class to be called like a regular function. When you define the __call__ method in a class, you make its instances callable objects, meaning you can use parentheses () on an instance to invoke this method.\n",
        "- __call__ makes class instances callable like functions.\n",
        "- It provides flexibility to combine object-oriented features with function-like behavior.\n",
        "- Commonly used for creating callable objects that maintain state, implementing decorators, or function factories.\n"
      ],
      "metadata": {
        "id": "xhEjXawbgGfz"
      }
    },
    {
      "cell_type": "markdown",
      "source": [
        "# Practical Questions"
      ],
      "metadata": {
        "id": "G3FsLDLUjJOU"
      }
    },
    {
      "cell_type": "code",
      "execution_count": null,
      "metadata": {
        "colab": {
          "base_uri": "https://localhost:8080/"
        },
        "id": "WN5PPq0LHrP-",
        "outputId": "73ae0394-a087-4bf7-f057-81c6d7d09150"
      },
      "outputs": [
        {
          "output_type": "stream",
          "name": "stdout",
          "text": [
            "Bark!\n"
          ]
        }
      ],
      "source": [
        "#1.Create a parent class Animal with a method speak() that prints a generic message. Create a child class Dog that overrides the speak() method to print \"Bark!\".\n",
        "class Animal:\n",
        "    def speak(self):\n",
        "        print(\"Animal speaks\")\n",
        "\n",
        "class Dog(Animal):\n",
        "    def speak(self):\n",
        "        print(\"Bark!\")\n",
        "dog = Dog()\n",
        "dog.speak()"
      ]
    },
    {
      "cell_type": "code",
      "source": [
        "#2.Write a program to create an abstract class Shape with a method area(). Derive classes Circle and Rectangle from it and implement the area() method in both.\n",
        "from abc import ABC, abstractmethod\n",
        "\n",
        "class Shape(ABC):\n",
        "    @abstractmethod\n",
        "    def area(self):\n",
        "        pass\n",
        "\n",
        "class Circle(Shape):\n",
        "    def __init__(self, radius):\n",
        "        self.radius = radius\n",
        "\n",
        "    def area(self):\n",
        "        return 3.14 * self.radius * self.radius\n",
        "\n",
        "class Rectangle(Shape):\n",
        "    def __init__(self, width, height):\n",
        "        self.width = width\n",
        "        self.height = height\n",
        "\n",
        "    def area(self):\n",
        "        return self.width * self.height\n",
        "\n",
        "\n",
        "c = Circle(5)\n",
        "print(\"Circle area:\", c.area())\n",
        "\n",
        "r = Rectangle(4, 6)\n",
        "print(\"Rectangle area:\", r.area())\n"
      ],
      "metadata": {
        "colab": {
          "base_uri": "https://localhost:8080/"
        },
        "id": "U8TuMZ3gjmZL",
        "outputId": "9aa3511c-d4f9-49ac-ad00-13b3ff6ee8a1"
      },
      "execution_count": null,
      "outputs": [
        {
          "output_type": "stream",
          "name": "stdout",
          "text": [
            "Circle area: 78.5\n",
            "Rectangle area: 24\n"
          ]
        }
      ]
    },
    {
      "cell_type": "code",
      "source": [
        "#3. Implement a multi-level inheritance scenario where a class Vehicle has an attribute type. Derive a class Car and further derive a class ElectricCar that adds a battery attribute.\n",
        "class Vehicle:\n",
        "    def __init__(self, type):\n",
        "        self.type = type\n",
        "\n",
        "class Car(Vehicle):\n",
        "    def __init__(self, type, model):\n",
        "        super().__init__(type)\n",
        "        self.model = model\n",
        "\n",
        "class ElectricCar(Car):\n",
        "    def __init__(self, type, model, battery):\n",
        "        super().__init__(type, model)\n",
        "        self.battery = battery\n",
        "\n",
        "ecar = ElectricCar(\"Electric\", \"Tesla\", 75)\n",
        "print(ecar.type)      # Electric\n",
        "print(ecar.model)     # Tesla\n",
        "print(ecar.battery)   # 75\n"
      ],
      "metadata": {
        "id": "sH6zbYHgmflJ"
      },
      "execution_count": null,
      "outputs": []
    },
    {
      "cell_type": "code",
      "source": [
        "# 4. Demonstrate polymorphism by creating a base class Bird with a method fly(). Create two derived classes Sparrow and Penguin that override the fly() method.\n",
        "class Bird:\n",
        "    def fly(self):\n",
        "        print(\"Bird is flying\")\n",
        "\n",
        "class Sparrow(Bird):\n",
        "    def fly(self):\n",
        "        print(\"Sparrow is flying\")\n",
        "\n",
        "sp = Sparrow()\n",
        "sp.fly()"
      ],
      "metadata": {
        "colab": {
          "base_uri": "https://localhost:8080/"
        },
        "id": "Cf17bIFdoTPH",
        "outputId": "64526d20-2333-4b91-def5-3622917b2017"
      },
      "execution_count": null,
      "outputs": [
        {
          "output_type": "stream",
          "name": "stdout",
          "text": [
            "Sparrow is flying\n"
          ]
        }
      ]
    },
    {
      "cell_type": "code",
      "source": [
        "#5. Write a program to demonstrate encapsulation by creating a class BankAccount with private attributes balance and methods to deposit, withdraw, and check balance.\n",
        "class BankAccount:\n",
        "    def __init__(self):\n",
        "        self.__balance = 0  # private attribute\n",
        "\n",
        "    def deposit(self, amount):\n",
        "        self.__balance += amount\n",
        "\n",
        "    def withdraw(self, amount):\n",
        "        if amount <= self.__balance:\n",
        "            self.__balance -= amount\n",
        "\n",
        "    def check_balance(self):\n",
        "        return self.__balance\n",
        "account = BankAccount()\n",
        "account.deposit(100)\n",
        "account.withdraw(30)\n",
        "print(account.check_balance())\n"
      ],
      "metadata": {
        "colab": {
          "base_uri": "https://localhost:8080/"
        },
        "id": "kA9C9AjHoaCE",
        "outputId": "4eb87309-4286-4bd1-c91a-7a19a1557e3c"
      },
      "execution_count": null,
      "outputs": [
        {
          "output_type": "stream",
          "name": "stdout",
          "text": [
            "70\n"
          ]
        }
      ]
    },
    {
      "cell_type": "code",
      "source": [
        "#6. Demonstrate runtime polymorphism using a method play() in a base class Instrument. Derive classes Guitar and Piano that implement their own version of play().\n",
        "class Instrument:\n",
        "    def play(self):\n",
        "        print(\"Instrument is playing\")\n",
        "\n",
        "class Guitar(Instrument):\n",
        "    def play(self):\n",
        "        print(\"Guitar is playing\")\n",
        "\n",
        "class Piano(Instrument):\n",
        "    def play(self):\n",
        "        print(\"Piano is playing\")\n",
        "\n",
        "a = Guitar()\n",
        "a.play()\n",
        "b = Piano()\n",
        "b.play()"
      ],
      "metadata": {
        "colab": {
          "base_uri": "https://localhost:8080/"
        },
        "id": "S2RGDbOVo7x_",
        "outputId": "c02ab5f0-ce72-4345-b7c7-5a0ffe9c8a63"
      },
      "execution_count": null,
      "outputs": [
        {
          "output_type": "stream",
          "name": "stdout",
          "text": [
            "Guitar is playing\n",
            "Piano is playing\n"
          ]
        }
      ]
    },
    {
      "cell_type": "code",
      "source": [
        "# 7. Create a class MathOperations with a class method add_numbers() to add two numbers and a static method subtract_numbers() to subtract two numbers.\n",
        "class MathOperations:\n",
        "    @classmethod\n",
        "    def add_numbers(cls, a, b):\n",
        "        return a + b\n",
        "\n",
        "    @staticmethod\n",
        "    def subtract_numbers(a, b):\n",
        "        return a - b\n",
        "\n",
        "a = MathOperations()\n",
        "print(a.add_numbers(5, 3))\n",
        "print(a.subtract_numbers(10, 4))"
      ],
      "metadata": {
        "colab": {
          "base_uri": "https://localhost:8080/"
        },
        "id": "Fp0KIIBRpYwc",
        "outputId": "08d3e2e3-6b8b-4386-e07b-885b4599878e"
      },
      "execution_count": null,
      "outputs": [
        {
          "output_type": "stream",
          "name": "stdout",
          "text": [
            "8\n",
            "6\n"
          ]
        }
      ]
    },
    {
      "cell_type": "code",
      "source": [
        "#8.Implement a class Person with a class method to count the total number of persons created.\n",
        "class Person:\n",
        "    count = 0\n",
        "\n",
        "    def __init__(self):\n",
        "        Person.count += 1\n",
        "\n",
        "    @classmethod\n",
        "    def get_count(cls):\n",
        "        return cls.count\n",
        "\n",
        "p1 = Person()\n",
        "p2 = Person()\n",
        "print(Person.get_count())"
      ],
      "metadata": {
        "colab": {
          "base_uri": "https://localhost:8080/"
        },
        "id": "_x2v6gJTplD2",
        "outputId": "2407abfa-45b4-4cd0-d37c-7e5d292f1ad7"
      },
      "execution_count": null,
      "outputs": [
        {
          "output_type": "stream",
          "name": "stdout",
          "text": [
            "2\n"
          ]
        }
      ]
    },
    {
      "cell_type": "code",
      "source": [
        "# 9. Write a class Fraction with attributes numerator and denominator. Override the str method to display the fraction as \"numerator/denominator\"\n",
        "class Fraction:\n",
        "    def __init__(self, numerator, denominator):\n",
        "        self.numerator = numerator\n",
        "        self.denominator = denominator\n",
        "\n",
        "    def __str__(self):\n",
        "        return f\"{self.numerator}/{self.denominator}\"\n",
        "frac = Fraction(3, 4)\n",
        "print(frac)\n"
      ],
      "metadata": {
        "colab": {
          "base_uri": "https://localhost:8080/"
        },
        "id": "XeQdEZgTqDIe",
        "outputId": "70dba643-8315-4384-a45d-67ade519016f"
      },
      "execution_count": null,
      "outputs": [
        {
          "output_type": "stream",
          "name": "stdout",
          "text": [
            "3/4\n"
          ]
        }
      ]
    },
    {
      "cell_type": "code",
      "source": [
        "#10. Demonstrate operator overloading by creating a class Vector and overriding the add method to add two vectors.\n",
        "class Vector:\n",
        "    def __init__(self, x, y):\n",
        "        self.x = x\n",
        "        self.y = y\n",
        "\n",
        "    def __add__(self, other):\n",
        "        return Vector(self.x + other.x, self.y + other.y)\n",
        "\n",
        "v1 = Vector(1, 2)\n",
        "v2 = Vector(3, 4)\n",
        "v3 = v1 + v2\n",
        "print(v3.x, v3.y)\n"
      ],
      "metadata": {
        "colab": {
          "base_uri": "https://localhost:8080/"
        },
        "id": "HVDmEJP0qRNk",
        "outputId": "84a3b695-1f80-4207-f39e-88a993e4b75a"
      },
      "execution_count": null,
      "outputs": [
        {
          "output_type": "stream",
          "name": "stdout",
          "text": [
            "4 6\n"
          ]
        }
      ]
    },
    {
      "cell_type": "code",
      "source": [
        "# 11. Create a class Person with attributes name and age. Add a method greet() that prints \"Hello, my name is {name} and I am {age} years old.\n",
        "class Person:\n",
        "    def __init__(self, name, age):\n",
        "        self.name = name\n",
        "        self.age = age\n",
        "    def greet(self):\n",
        "        print(f\"Hello, my name is {self.name} and I am {self.age} years old.\")\n",
        "person1 = Person(\"Chetan\", 20)\n",
        "person1.greet()"
      ],
      "metadata": {
        "colab": {
          "base_uri": "https://localhost:8080/"
        },
        "id": "_6mhFmUkqrEu",
        "outputId": "1ee4da00-fb5b-4f47-c741-596934cfdbdf"
      },
      "execution_count": null,
      "outputs": [
        {
          "output_type": "stream",
          "name": "stdout",
          "text": [
            "Hello, my name is Chetan and I am 20 years old.\n"
          ]
        }
      ]
    },
    {
      "cell_type": "code",
      "source": [
        "# 12. Implement a class Student with attributes name and grades. Create a method average_grade() to compute the average of the grades.\n",
        "class Student:\n",
        "    def __init__(self, name, grades):\n",
        "        self.name = name\n",
        "        self.grades = grades\n",
        "\n",
        "    def average_grade(self):\n",
        "        return sum(self.grades) / len(self.grades)\n",
        "\n",
        "s = Student(\"Chetan\", [85, 90, 78])\n",
        "print(s.average_grade())\n"
      ],
      "metadata": {
        "colab": {
          "base_uri": "https://localhost:8080/"
        },
        "id": "eoOmh9Syq8VO",
        "outputId": "e11c27fe-67bf-413b-af0a-e119f07e9097"
      },
      "execution_count": null,
      "outputs": [
        {
          "output_type": "stream",
          "name": "stdout",
          "text": [
            "84.33333333333333\n"
          ]
        }
      ]
    },
    {
      "cell_type": "code",
      "source": [
        "# 13. Create a class Rectangle with methods set_dimensions() to set the dimensions and area() to calculate the area.\n",
        "class Rectangle:\n",
        "    def set_dimensions(self, width, height):\n",
        "        self.width = width\n",
        "        self.height = height\n",
        "\n",
        "    def area(self):\n",
        "        return self.width * self.height\n",
        "\n",
        "rect = Rectangle()\n",
        "rect.set_dimensions(5, 3)\n",
        "print(rect.area())\n"
      ],
      "metadata": {
        "colab": {
          "base_uri": "https://localhost:8080/"
        },
        "id": "ESW9dZUJsQL1",
        "outputId": "afcb13eb-312e-42be-d74c-d0c03ecd83e5"
      },
      "execution_count": null,
      "outputs": [
        {
          "output_type": "stream",
          "name": "stdout",
          "text": [
            "15\n"
          ]
        }
      ]
    },
    {
      "cell_type": "code",
      "source": [
        "#14. Create a class Employee with a method calculate_salary() that computes the salary based on hours worked and hourly rate. Create a derived class Manager that adds a bonus to the salary\n",
        "class Employee:\n",
        "    def __init__(self, hours, rate):\n",
        "        self.hours = hours\n",
        "        self.rate = rate\n",
        "\n",
        "    def calculate_salary(self):\n",
        "        return self.hours * self.rate\n",
        "\n",
        "class Manager(Employee):\n",
        "    def __init__(self, hours, rate, bonus):\n",
        "        super().__init__(hours, rate)\n",
        "        self.bonus = bonus\n",
        "\n",
        "    def calculate_salary(self):\n",
        "        return super().calculate_salary() + self.bonus\n",
        "\n",
        "e = Employee(40, 20)\n",
        "m = Manager(40, 20, 500)\n",
        "\n",
        "print(e.calculate_salary())\n",
        "print(m.calculate_salary())\n"
      ],
      "metadata": {
        "colab": {
          "base_uri": "https://localhost:8080/"
        },
        "id": "_bTETddHtDdO",
        "outputId": "914513df-d6b6-4b5f-b6b6-8e213b70c3cd"
      },
      "execution_count": null,
      "outputs": [
        {
          "output_type": "stream",
          "name": "stdout",
          "text": [
            "800\n",
            "1300\n"
          ]
        }
      ]
    },
    {
      "cell_type": "code",
      "source": [
        "#15. Create a class Product with attributes name, price, and quantity. Implement a method total_price() that calculates the total price of the product.\n",
        "class Product:\n",
        "    def __init__(self, name, price, quantity):\n",
        "        self.name = name\n",
        "        self.price = price\n",
        "        self.quantity = quantity\n",
        "\n",
        "    def total_price(self):\n",
        "        return self.price * self.quantity\n",
        "\n",
        "p = Product(\"Laptop\", 1000, 2)\n",
        "print(p.total_price())\n"
      ],
      "metadata": {
        "colab": {
          "base_uri": "https://localhost:8080/"
        },
        "id": "6-XexWpbtM2x",
        "outputId": "542c2cb5-cb18-405e-d2e5-77dc4a1192c8"
      },
      "execution_count": null,
      "outputs": [
        {
          "output_type": "stream",
          "name": "stdout",
          "text": [
            "2000\n"
          ]
        }
      ]
    },
    {
      "cell_type": "code",
      "source": [
        "#16. Create a class Animal with an abstract method sound(). Create two derived classes Cow and Sheep that implement the sound() method\n",
        "from abc import ABC, abstractmethod\n",
        "\n",
        "class Animal(ABC):\n",
        "    @abstractmethod\n",
        "    def sound(self):\n",
        "        pass\n",
        "\n",
        "class Cow(Animal):\n",
        "    def sound(self):\n",
        "        print(\"Moo\")\n",
        "\n",
        "class Sheep(Animal):\n",
        "    def sound(self):\n",
        "        print(\"Baa\")\n",
        "\n",
        "cow = Cow()\n",
        "sheep = Sheep()\n",
        "\n",
        "cow.sound()\n",
        "sheep.sound()\n"
      ],
      "metadata": {
        "colab": {
          "base_uri": "https://localhost:8080/"
        },
        "id": "3my-VwqwuGar",
        "outputId": "94f002da-9edf-4dfb-ca47-eb8fd89d63ea"
      },
      "execution_count": null,
      "outputs": [
        {
          "output_type": "stream",
          "name": "stdout",
          "text": [
            "Moo\n",
            "Baa\n"
          ]
        }
      ]
    },
    {
      "cell_type": "code",
      "source": [
        "#17. Create a class Book with attributes title, author, and year_published. Add a method get_book_info() that returns a formatted string with the book's details.\n",
        "class Book:\n",
        "    def __init__(self, title, author, year_published):\n",
        "        self.title = title\n",
        "        self.author = author\n",
        "        self.year_published = year_published\n",
        "\n",
        "    def get_book_info(self):\n",
        "        return f\"'{self.title}' by {self.author}, published in {self.year_published}\"\n",
        "\n",
        "my_book = Book(\"Wings of fire\", \"abdul kalam\", 1960)\n",
        "print(my_book.get_book_info())\n"
      ],
      "metadata": {
        "colab": {
          "base_uri": "https://localhost:8080/"
        },
        "id": "vXylr_0HucHC",
        "outputId": "6ea2e7c2-50d1-4985-a129-ea2112c0b6b4"
      },
      "execution_count": 28,
      "outputs": [
        {
          "output_type": "stream",
          "name": "stdout",
          "text": [
            "'To Kill a Mockingbird' by Harper Lee, published in 1960\n"
          ]
        }
      ]
    },
    {
      "cell_type": "code",
      "source": [
        "#18.Create a class House with attributes address and price. Create a derived class Mansion that adds an attribute number_of_rooms.\n",
        "class House:\n",
        "    def __init__(self, address, price):\n",
        "        self.address = address\n",
        "        self.price = price\n",
        "\n",
        "class Mansion(House):\n",
        "    def __init__(self, address, price, number_of_rooms):\n",
        "        super().__init__(address, price)\n",
        "        self.number_of_rooms = number_of_rooms\n",
        "\n",
        "mansion = Mansion(\"111 rajnath road empire garden delhi\", 500000, 15)\n",
        "print(mansion.address)\n",
        "print(mansion.price)\n",
        "print(mansion.number_of_rooms)"
      ],
      "metadata": {
        "id": "x4ckS6smuvfe",
        "colab": {
          "base_uri": "https://localhost:8080/"
        },
        "outputId": "6410d1a4-b9ef-4ddf-d700-e45baa2de42d"
      },
      "execution_count": 33,
      "outputs": [
        {
          "output_type": "stream",
          "name": "stdout",
          "text": [
            "111 rajnath road empire garden delhi\n",
            "500000\n",
            "15\n"
          ]
        }
      ]
    },
    {
      "cell_type": "code",
      "source": [],
      "metadata": {
        "id": "gU3oZTgK2LKS"
      },
      "execution_count": null,
      "outputs": []
    }
  ]
}